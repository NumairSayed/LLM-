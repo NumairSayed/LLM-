{
 "cells": [
  {
   "cell_type": "code",
   "execution_count": 1,
   "metadata": {},
   "outputs": [],
   "source": [
    "names = open('names.txt').read().splitlines()"
   ]
  },
  {
   "cell_type": "code",
   "execution_count": 58,
   "metadata": {},
   "outputs": [
    {
     "data": {
      "text/plain": [
       "27"
      ]
     },
     "execution_count": 58,
     "metadata": {},
     "output_type": "execute_result"
    }
   ],
   "source": [
    "chars = sorted(list(set(''.join(names))) + ['.'])\n",
    "n_unique_chars = len(chars)\n",
    "n_unique_chars\n"
   ]
  },
  {
   "cell_type": "code",
   "execution_count": 3,
   "metadata": {},
   "outputs": [],
   "source": [
    "stoi = {character:index for index,character in enumerate(chars)}\n",
    "stoi['.']\n",
    "itos = {index:character for character,index in stoi.items()}"
   ]
  },
  {
   "cell_type": "code",
   "execution_count": 18,
   "metadata": {},
   "outputs": [
    {
     "data": {
      "text/plain": [
       "['micaiah',\n",
       " 'gautam',\n",
       " 'janya',\n",
       " 'talea',\n",
       " 'rhylin',\n",
       " 'sira',\n",
       " 'theon',\n",
       " 'opal',\n",
       " 'zaylynn']"
      ]
     },
     "execution_count": 18,
     "metadata": {},
     "output_type": "execute_result"
    }
   ],
   "source": [
    "import torch\n",
    "[names[i] for i in (torch.arange(-10,-1)).tolist()]"
   ]
  },
  {
   "cell_type": "code",
   "execution_count": 78,
   "metadata": {},
   "outputs": [
    {
     "name": "stdout",
     "output_type": "stream",
     "text": [
      "torch.Size([182484, 5]) torch.Size([182484])\n",
      "torch.Size([22869, 5]) torch.Size([22869])\n",
      "torch.Size([22793, 5]) torch.Size([22793])\n"
     ]
    }
   ],
   "source": [
    "block_size = 5 # context length: how many characters do we take to predict the next one?\n",
    "\n",
    "def build_dataset(words):  \n",
    "  X, Y = [], []\n",
    "  for w in words:\n",
    "\n",
    "    #print(w)\n",
    "    context = [0] * block_size\n",
    "    for ch in w + '.':\n",
    "      ix = stoi[ch]\n",
    "      X.append(context)\n",
    "      Y.append(ix)\n",
    "      #print(''.join(itos[i] for i in context), '--->', itos[ix])\n",
    "      context = context[1:] + [ix] # crop and append\n",
    "\n",
    "  X = torch.tensor(X)\n",
    "  Y = torch.tensor(Y)\n",
    "  print(X.shape,Y.shape)\n",
    "  return X, Y\n",
    "\n",
    "import random\n",
    "random.seed(42)\n",
    "random.shuffle(names)\n",
    "n1 = int(0.8*len(names))\n",
    "n2 = int(0.9*len(names))\n",
    "\n",
    "Xtr, Ytr = build_dataset(names[:n1])\n",
    "Xval, Yval = build_dataset(names[n1:n2])\n",
    "Xte, Yte = build_dataset(names[n2:])"
   ]
  },
  {
   "cell_type": "code",
   "execution_count": 75,
   "metadata": {},
   "outputs": [
    {
     "data": {
      "text/plain": [
       "16297"
      ]
     },
     "execution_count": 75,
     "metadata": {},
     "output_type": "execute_result"
    }
   ],
   "source": [
    "hidden_neurons = 200\n",
    "vecembedding_dim = 10\n",
    "\n",
    "W1 = torch.randn((vecembedding_dim *block_size,hidden_neurons)) \n",
    "b1 = torch.randn((hidden_neurons))\n",
    "W2 = torch.randn((hidden_neurons,n_unique_chars))\n",
    "b2 = torch.randn(n_unique_chars)\n",
    "C = torch.randn((n_unique_chars,vecembedding_dim))\n",
    "batchnorm_gain = torch.ones(size=[1,hidden_neurons])\n",
    "batchnorm_bias = torch.zeros(size=[1,hidden_neurons])\n",
    "\n",
    "# Individual stats are to keep track of these metrics when validation split \n",
    "# is being tested, because then batchnorm is not used, hence we need a global mean and std  \n",
    "# ALso, these are not learnable parameters, they will be calculated under torch.no_grad()\n",
    "# decoration to isolate it from the computation graph, since it is just a variable updation, \n",
    "# see training code to understand.\n",
    "\n",
    "individual_mean = torch.zeros(size=[1,hidden_neurons])\n",
    "individual_std = torch.ones(size=[1,hidden_neurons])\n",
    "\n",
    "parameters = [C,W1,b1,W2,b2,batchnorm_gain,batchnorm_bias]\n",
    "for params in parameters:\n",
    "    params.requires_grad = True\n",
    "    \n",
    "y = sum(p.nelement() for p in parameters)\n",
    "y"
   ]
  },
  {
   "cell_type": "code",
   "execution_count": 66,
   "metadata": {},
   "outputs": [
    {
     "data": {
      "text/plain": [
       "torch.Size([512, 5, 10])"
      ]
     },
     "execution_count": 66,
     "metadata": {},
     "output_type": "execute_result"
    }
   ],
   "source": [
    "C[Xtr[torch.arange(0,512)]].shape\n"
   ]
  },
  {
   "cell_type": "code",
   "execution_count": 77,
   "metadata": {},
   "outputs": [
    {
     "name": "stdout",
     "output_type": "stream",
     "text": [
      "epoch: 1/100000 -  loss:2.1626\n",
      "epoch: 10001/100000 -  loss:2.1606\n",
      "epoch: 20001/100000 -  loss:2.2516\n",
      "epoch: 30001/100000 -  loss:2.1270\n",
      "epoch: 40001/100000 -  loss:2.2880\n",
      "epoch: 50001/100000 -  loss:2.4601\n",
      "epoch: 60001/100000 -  loss:2.2490\n",
      "epoch: 70001/100000 -  loss:2.2355\n",
      "epoch: 80001/100000 -  loss:2.2356\n",
      "epoch: 90001/100000 -  loss:1.9421\n"
     ]
    }
   ],
   "source": [
    "\n",
    "#learning_rates_shop = torch.linspace(0.001,2.000,2000)\n",
    "#losses = []\n",
    "#learning_rates = []\n",
    "minibatch_size = 64\n",
    "\n",
    "for i in range(100000):\n",
    "    #Forward Pass\n",
    "    mini_batch_indices = torch.randint(0,Xtr.shape[0],(minibatch_size,)) \n",
    "    embedding = C[Xtr[mini_batch_indices]]\n",
    "    h_preactivation = embedding.view(minibatch_size,block_size*vecembedding_dim) @ W1 +b1\n",
    "    batch_mean = h_preactivation.mean(dim=0,keepdim=True)\n",
    "    batch_std = h_preactivation.std(dim=0,keepdim=True)\n",
    "    h_preactivation = ((h_preactivation - batch_mean) * (batchnorm_gain))/batch_std  + batchnorm_bias\n",
    "    \n",
    "    with torch.no_grad():\n",
    "        individual_mean = individual_mean*0.90 + batch_mean*0.1\n",
    "        individual_std  = individual_std *0.90 + batch_std *0.1\n",
    "    \n",
    "    h = torch.nn.functional.tanh(h_preactivation)\n",
    "    logits = h @ W2 + b2\n",
    "    loss = torch.nn.functional.cross_entropy(logits,Ytr[mini_batch_indices])\n",
    "    \n",
    "    \n",
    "    #Backward Pass\n",
    "    for p in parameters:\n",
    "        p.grad = None\n",
    "    loss.backward()\n",
    "    \n",
    "    #update\n",
    "    lr = 0.01 if i<60000 else 0.001\n",
    "    for params in parameters:\n",
    "        params.data += -lr * params.grad\n",
    "    #losses.append(loss.item())\n",
    "    #learning_rates.append(learning_rates_shop[i])\n",
    "    \n",
    "    if (not i%10000):\n",
    "        print(f\"epoch: {(i+1)}/100000 -  loss:{loss.item():.4f}\")\n",
    "    \n",
    "    "
   ]
  },
  {
   "cell_type": "code",
   "execution_count": 79,
   "metadata": {},
   "outputs": [
    {
     "ename": "ValueError",
     "evalue": "Expected input batch_size (1) to match target batch_size (0).",
     "output_type": "error",
     "traceback": [
      "\u001b[0;31m---------------------------------------------------------------------------\u001b[0m",
      "\u001b[0;31mValueError\u001b[0m                                Traceback (most recent call last)",
      "Cell \u001b[0;32mIn[79], line 15\u001b[0m\n\u001b[1;32m     13\u001b[0m h \u001b[38;5;241m=\u001b[39m torch\u001b[38;5;241m.\u001b[39mnn\u001b[38;5;241m.\u001b[39mfunctional\u001b[38;5;241m.\u001b[39mtanh(h_preactivation)\n\u001b[1;32m     14\u001b[0m logits \u001b[38;5;241m=\u001b[39m h \u001b[38;5;241m@\u001b[39m W2 \u001b[38;5;241m+\u001b[39m b2\n\u001b[0;32m---> 15\u001b[0m loss \u001b[38;5;241m=\u001b[39m \u001b[43mtorch\u001b[49m\u001b[38;5;241;43m.\u001b[39;49m\u001b[43mnn\u001b[49m\u001b[38;5;241;43m.\u001b[39;49m\u001b[43mfunctional\u001b[49m\u001b[38;5;241;43m.\u001b[39;49m\u001b[43mcross_entropy\u001b[49m\u001b[43m(\u001b[49m\u001b[43mlogits\u001b[49m\u001b[43m,\u001b[49m\u001b[43mYval\u001b[49m\u001b[43m[\u001b[49m\u001b[43mi\u001b[49m\u001b[43m]\u001b[49m\u001b[43m)\u001b[49m\n\u001b[1;32m     18\u001b[0m \u001b[38;5;28;01mif\u001b[39;00m(\u001b[38;5;129;01mnot\u001b[39;00m i\u001b[38;5;241m%\u001b[39m\u001b[38;5;241m100\u001b[39m):\n\u001b[1;32m     19\u001b[0m     \u001b[38;5;28mprint\u001b[39m(\u001b[38;5;124mf\u001b[39m\u001b[38;5;124m\"\u001b[39m\u001b[38;5;124mval example: \u001b[39m\u001b[38;5;132;01m{\u001b[39;00mi\u001b[38;5;132;01m}\u001b[39;00m\u001b[38;5;124m / \u001b[39m\u001b[38;5;132;01m{\u001b[39;00m\u001b[38;5;28mlen\u001b[39m(Xval\u001b[38;5;241m.\u001b[39mnelement())\u001b[38;5;132;01m}\u001b[39;00m\u001b[38;5;124m - val loss: \u001b[39m\u001b[38;5;132;01m{\u001b[39;00mloss\u001b[38;5;132;01m:\u001b[39;00m\u001b[38;5;124m.4f\u001b[39m\u001b[38;5;132;01m}\u001b[39;00m\u001b[38;5;124m \u001b[39m\u001b[38;5;124m\"\u001b[39m)\n",
      "File \u001b[0;32m~/.local/lib/python3.10/site-packages/torch/nn/functional.py:3086\u001b[0m, in \u001b[0;36mcross_entropy\u001b[0;34m(input, target, weight, size_average, ignore_index, reduce, reduction, label_smoothing)\u001b[0m\n\u001b[1;32m   3084\u001b[0m \u001b[38;5;28;01mif\u001b[39;00m size_average \u001b[38;5;129;01mis\u001b[39;00m \u001b[38;5;129;01mnot\u001b[39;00m \u001b[38;5;28;01mNone\u001b[39;00m \u001b[38;5;129;01mor\u001b[39;00m reduce \u001b[38;5;129;01mis\u001b[39;00m \u001b[38;5;129;01mnot\u001b[39;00m \u001b[38;5;28;01mNone\u001b[39;00m:\n\u001b[1;32m   3085\u001b[0m     reduction \u001b[38;5;241m=\u001b[39m _Reduction\u001b[38;5;241m.\u001b[39mlegacy_get_string(size_average, reduce)\n\u001b[0;32m-> 3086\u001b[0m \u001b[38;5;28;01mreturn\u001b[39;00m \u001b[43mtorch\u001b[49m\u001b[38;5;241;43m.\u001b[39;49m\u001b[43m_C\u001b[49m\u001b[38;5;241;43m.\u001b[39;49m\u001b[43m_nn\u001b[49m\u001b[38;5;241;43m.\u001b[39;49m\u001b[43mcross_entropy_loss\u001b[49m\u001b[43m(\u001b[49m\u001b[38;5;28;43minput\u001b[39;49m\u001b[43m,\u001b[49m\u001b[43m \u001b[49m\u001b[43mtarget\u001b[49m\u001b[43m,\u001b[49m\u001b[43m \u001b[49m\u001b[43mweight\u001b[49m\u001b[43m,\u001b[49m\u001b[43m \u001b[49m\u001b[43m_Reduction\u001b[49m\u001b[38;5;241;43m.\u001b[39;49m\u001b[43mget_enum\u001b[49m\u001b[43m(\u001b[49m\u001b[43mreduction\u001b[49m\u001b[43m)\u001b[49m\u001b[43m,\u001b[49m\u001b[43m \u001b[49m\u001b[43mignore_index\u001b[49m\u001b[43m,\u001b[49m\u001b[43m \u001b[49m\u001b[43mlabel_smoothing\u001b[49m\u001b[43m)\u001b[49m\n",
      "\u001b[0;31mValueError\u001b[0m: Expected input batch_size (1) to match target batch_size (0)."
     ]
    }
   ],
   "source": [
    "\n",
    "val_batch_size = 0\n",
    "\n",
    "for i in range(Xval.nelement()):\n",
    "    #Forward Pass\n",
    "    mini_batch_indices = torch.randint(0,Xval.shape[0],(val_batch_size,)) \n",
    "    embedding = C[Xval[i]]\n",
    "    h_preactivation = embedding.view(val_batch_size,block_size*vecembedding_dim) @ W1 +b1\n",
    "    \n",
    "    h_preactivation = ((h_preactivation - individual_mean) /individual_std)\n",
    "    \n",
    "    \n",
    "    \n",
    "    h = torch.nn.functional.tanh(h_preactivation)\n",
    "    logits = h @ W2 + b2\n",
    "    loss = torch.nn.functional.cross_entropy(logits,Yval[i])\n",
    "    \n",
    "    \n",
    "    if(not i%100):\n",
    "        print(f\"val example: {i} / {len(Xval.nelement())} - val loss: {loss:.4f} \")\n",
    "    \n",
    "   \n",
    "    \n",
    "    \n",
    "    "
   ]
  },
  {
   "cell_type": "code",
   "execution_count": 35,
   "metadata": {},
   "outputs": [],
   "source": [
    "%matplotlib inline\n",
    "import matplotlib.pyplot as plt\n",
    "#plt.plot(learning_rates_shop,losses)   "
   ]
  },
  {
   "cell_type": "code",
   "execution_count": 49,
   "metadata": {},
   "outputs": [
    {
     "name": "stdout",
     "output_type": "stream",
     "text": [
      "polrigan.\n",
      "girya.\n",
      "amerie.\n",
      "jres.\n",
      "deesanoen.\n"
     ]
    },
    {
     "name": "stdout",
     "output_type": "stream",
     "text": [
      "cay.\n",
      "kanarimus.\n",
      "ginrse.\n",
      "ziant.\n",
      "hunven.\n"
     ]
    }
   ],
   "source": [
    "# predictions\n",
    "\n",
    "for i in range(10):\n",
    "    out = []\n",
    "    context = [0] * block_size \n",
    "    while True:\n",
    "      emb = C[torch.tensor([context])] \n",
    "      h = torch.tanh(emb.view(1, -1) @ W1 + b1)\n",
    "      logits = h @ W2 + b2\n",
    "      probs = torch.nn.functional.softmax(logits, dim=1)\n",
    "      ix = torch.multinomial(probs, num_samples=1, generator=None).item()\n",
    "      context = context[1:] + [ix]\n",
    "      out.append(ix)\n",
    "      if ix == 0:\n",
    "        break\n",
    "    \n",
    "    print(''.join(itos[i] for i in out))"
   ]
  }
 ],
 "metadata": {
  "kernelspec": {
   "display_name": "Python 3",
   "language": "python",
   "name": "python3"
  },
  "language_info": {
   "codemirror_mode": {
    "name": "ipython",
    "version": 3
   },
   "file_extension": ".py",
   "mimetype": "text/x-python",
   "name": "python",
   "nbconvert_exporter": "python",
   "pygments_lexer": "ipython3",
   "version": "3.10.12"
  }
 },
 "nbformat": 4,
 "nbformat_minor": 2
}
